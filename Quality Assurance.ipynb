{
  "nbformat": 4,
  "nbformat_minor": 0,
  "metadata": {
    "colab": {
      "name": "Cópia de Untitled0.ipynb",
      "provenance": [],
      "collapsed_sections": []
    },
    "kernelspec": {
      "name": "python3",
      "display_name": "Python 3"
    },
    "language_info": {
      "name": "python"
    }
  },
  "cells": [
    {
      "cell_type": "markdown",
      "source": [
        "\n",
        "# **Processo de Quality Assurance (QA)**\n",
        "\n",
        "Quando pensamos em automação de testes, muitas vezes passa pela nossa cabeça questões como pirâmide de testes e qual linguagem/framework será utilizado para realizar a automação. Caso seja levado em conta boas práticas de automação, não passamos da discussão de adotar page objects ou page actions na automação de interface.\n",
        "\n",
        "Porém, é importante atentarmos que há muitos outros fatores determinantes para a manutenção daquela automação por membros da equipe, afinal, quem nunca trocou trechos de código via chat ou teve dificuldade para saber porque que uma determinada alteração foi realizada na automação?\n",
        "\n",
        "É importante preocuparmos mais com o nosso código, afinal...\n",
        "\n"
      ],
      "metadata": {
        "id": "GWadj_zKHYZK"
      }
    },
    {
      "cell_type": "markdown",
      "source": [
        "\n",
        "**Código de teste é software e deve ser tratado como tal**\n",
        "\n",
        "---\n",
        "E vamos ser sinceros, assim como o dev deve entregar seu código com qualidade, nada mais justo que nós, QA, também entreguemos com qualidade.\n",
        "\n",
        "Esses problemas foram solucionados há muito tempo no desenvolvimento de software e pretendo listar aqui algumas dicas interessantes de serem adotadas no seu código de automação software.\n",
        "\n",
        "Resumo:\n",
        "\n",
        "Utilize Git e deixe o código acessível\n",
        "Escreva boas mensagens de commit (caso já utilize git)\n",
        "Padronize o seu código\n",
        "Documente o seu projeto\n",
        "Separe as dependências de desenvolvimento e produção\n"
      ],
      "metadata": {
        "id": "8M6sMiz5K9dd"
      }
    },
    {
      "cell_type": "markdown",
      "source": [
        "**Utilize Git e deixe o código acessível**\n",
        "\n",
        "Versione o seu código utilizando Git e o torne acessível para os outros membros através de conta no Gitlab, Github ou hospedado em servidor da empresa. Com isso, pare de:\n",
        "\n",
        "Hospedar o código apenas na sua máquina (ela pode pifar).\n",
        "De manter código comentado, por ter medo de que aquele trecho de código será necessário um dia (nunca será).\n",
        "E, principalmente, de enviar arquivos via e-mail e tendo sempre que fazer o controle de qual arquivo pode ser substituído ou não.\n",
        "Deixe tudo isso para o git resolver.\n",
        "\n",
        "Para saber mais, veja as dicas de git para testers.\n",
        "\n",
        "Bônus:\n",
        "\n",
        "Use branch.\n",
        "Evite usar GitFlow. Para saber mais leia Git Flow vs Github Flow e GitFlow considered harmful.\n",
        "Use rebase, evite de usar merge."
      ],
      "metadata": {
        "id": "Ip-5WdtmLm_f"
      }
    },
    {
      "cell_type": "markdown",
      "source": [
        "**Escreva boas mensagens de commit (caso já utilize git)**\n",
        "\n",
        "Agora que está utilizando o git, é importante que não cometa as falhas de escrita de mensagens de commit. É comum clonarmos um repositório de testes, tentarmos investigar porque tal arquivo foi modificado e depararmos com um log nada amigável como esse:\n",
        "\n"
      ],
      "metadata": {
        "id": "35YcnsXrL2bQ"
      }
    },
    {
      "cell_type": "code",
      "source": [
        "S git log --oneline\n",
        "2f1eb33 (HEAD -› master, origin/master, origin/HEAD) Update README. md\n",
        "e348ede Update README,nd\n",
        "73eb4ef Create README,md\n",
        "2093cf8 Exclusão de bibliotecas não utilizadas em 2 classes;\n",
        "4493208 Inclusão de novas classes.\n",
        "6220991 Definição de *timeout,verificação de existência de elemento e término da definição da arquitetura dos page objects.\n",
        "722d74a. Primeiro teste funcionando corretamente e definição correta dos page objects.\n",
        "342056c Inclusão de *Screenhot® e de\"TestePaginaLogin*,\n",
        "p97712c 1 - Criação de novas classes. 2 - Separação de page object e classe de teste, 3 - Alterçaão de namespace de 'Script'\n",
        "para 'Pageobjects''. 4 Implementação de herança. Commit incompleto devido à necessidade de pausa na codificação.\n",
        "20619d6 Merge branch 'master' of https://github.com/helenabatiista/Teste-QA-\n",
        "Ff73949 Alteração\n",
        "Bf50845 Alteração\n",
        "3665fec Teste\n",
        "4919d19 Adicionar arquivos de projeto.\n",
        "(9e2a97 Adicionar •gitignore e •gitattributes."
      ],
      "metadata": {
        "id": "c0yGw0siUFgs"
      },
      "execution_count": null,
      "outputs": []
    },
    {
      "cell_type": "markdown",
      "source": [
        "Sim, esse log é real\n",
        "\n",
        "Vendo esse log, consegue identificar de forma fácil o motivo de cada alteração? Para saber terá que investigar as alterações realizadas ou conversar com o autor do código, que pode nem estar mais na empresa. E tudo isso vai te fazer gastar um bom tempo.\n",
        "\n",
        "É importante que as mensagens de commit sejam totalmente claras, de forma de que ao lê-la fique claro que tipo de alteração foi feita e o que levou ela a ser feita, como essa:"
      ],
      "metadata": {
        "id": "1kcSQZyeSRA5"
      }
    },
    {
      "cell_type": "code",
      "source": [
        "commite4a313ac9@ba285b3eb396008d3c24141832dcea\n",
        "Author: Helena Batista ‹helena060920@gmail.com>\n",
        "Date:\n",
        "Fri Nov 15 00:28:37 2019\n",
        "-0300\n",
        "feat: incluir validação da mensagem de commit\n",
        "Incluído validação para permitir apenas mensagens de commits que estejam respeitando as regras definidas\n",
        "commit convention:https://commitlint.js.org/#/concepts-commit-conventions\n",
        "commit type:https://github.com/pvdlg/conventional-changelog-metahub"
      ],
      "metadata": {
        "id": "Z8vukEndUDAW"
      },
      "execution_count": null,
      "outputs": []
    },
    {
      "cell_type": "markdown",
      "source": [
        "Consegue notar que esse commit consegue passar mais informações importantes, poupando tempo de investigação?\n",
        "\n",
        "Para entender sobre como escrever boas mensagens de commit, leia o guia de mensagens de commit e convenção de commit.\n",
        "\n",
        "Bônus:\n",
        "\n",
        "Use git-cz para te ajudar a escrever mensagens de commit usando a convenção.\n",
        "Valide se a mensagem está respeitando o padrão no pre-commit, conciliando, por exemplo, commitlint e husky.\n"
      ],
      "metadata": {
        "id": "i2o8mTiYUhn0"
      }
    },
    {
      "cell_type": "markdown",
      "source": [
        "\n",
        "**Padronize o seu código** \n",
        "\n",
        "Como cada pessoa possui o seu estilo de codificar, é esperado de que o projeto de automação, por ter mais de 1 pessoa, possua vários estilos diferentes.\n",
        "\n",
        "O código abaixo, escrito por 2 pessoas, possui as seguintes diferenças:\n",
        "\n",
        "Espaçamento no início do código.\n",
        "Uso de ponto-e-vírgula.\n",
        "Uso de aspas duplas e aspas simples."
      ],
      "metadata": {
        "id": "RE-CIqIeUtP1"
      }
    },
    {
      "cell_type": "code",
      "source": [
        "ElementoQuestionario(questionario)(\n",
        "helper.AguardarElemento(this.Colunavaga);\n",
        "returnelement.all(by.cssContainingText(*[ng-click-\"controller.exibirDetalhesQuestionario(quest)\"]',questionario))-get(8);\n",
        "( helenabatiist.\n",
        "Raw\n",
        "Blam\n",
        "AbrirQuestionario(questionario)(\n",
        "const quest = element(by.cssContainingText (*[ng-click='controller. exibirDetalhesQuestionario(quest)*]\", questionario))\n",
        "quest.Clicar()\n",
        "1\n"
      ],
      "metadata": {
        "id": "5MjXXrlnVPVE"
      },
      "execution_count": null,
      "outputs": []
    },
    {
      "cell_type": "markdown",
      "source": [
        "Para solucionar esse problema use um formatador de código opinativo, como o prettier, para garantir que todo o código esteja consistente e com um estilo único, facilitando sua leitura.\n",
        "\n",
        "Bônus: Execute o prettier no pre-commit com husky, para garantir que todo código enviado esteja padronizado.\n"
      ],
      "metadata": {
        "id": "34xno2FDVQfP"
      }
    },
    {
      "cell_type": "markdown",
      "source": [
        "# **Documente o seu projeto**\n",
        "\n",
        "É importante que o seu projeto possua uma boa documentação, pois é ela que vai informar para as outras pessoas sobre qual o papel do projeto, como configurar, executar, contribuir e outras informações importantes.\n",
        "\n",
        "Código sem documentação é difícil de ser operado por pessoas alheias ao projeto, que terão que perder tempo analisando o código para entenderem um pouco sobre o mesmo.\n",
        "\n",
        "Por isso, foque em escrever um README.md para o seu projeto. A extensão .md é de markdown, uma linguagem simples de marcação que apoia a escrever com boa produtividade textos organizados.\n",
        "\n",
        "README.md é tão importante que todo projeto open source procura ter ele bem detalhado e atualizado.\n",
        "\n"
      ],
      "metadata": {
        "id": "VT80-KwoVYfh"
      }
    },
    {
      "cell_type": "markdown",
      "source": [
        "# **Separe as dependências de desenvolvimento e produção**\n",
        "\n",
        "Essa dica serve apenas para javascript\n",
        "\n",
        "Quando estiver instalando as dependências necessárias para o seu projeto, é importante identificar quais são necessárias apenas para desenvolvimento e quais são para a execução dos testes.\n",
        "\n",
        "Essa separação é importante para quando outra pessoa ou o ambiente de CI for rodar a sua automação, ele baixe apenas as dependências necessárias. Afinal, para rodar os testes não é importante baixar o pacote de validação de commit. É preciso ter em mente também de que algumas dependências possuem dezenas de dependências, fazendo com que, de forma fácil, seja baixado mais de 100 pacotes de forma desnecessária.\n",
        "\n",
        "Exemplo de separação"
      ],
      "metadata": {
        "id": "VXuLcLddVfLX"
      }
    },
    {
      "cell_type": "code",
      "source": [
        "dependencies\":{\n",
        "\"faker\":\"^4.1.0\"\n",
        "\"jasmine-spec-reporter\":\"4.1.1\",\n",
        "\"protractor\":\"5.4.2*\n",
        "\"protractor-helper\":\"4.0.5\"\n",
        "},\n",
        "\"devDependencies\":{\n",
        "\"@commitlint/cli\": \"^8.2.0\",\n",
        "\"@commitlint/config-conventional\":\"ˆ8.2.0\"\n",
        "\"husky\":\"^3.0.9\",\n",
        "\"prettier\":\"^1.19.1\""
      ],
      "metadata": {
        "id": "EQjbLvxLVmyF"
      },
      "execution_count": null,
      "outputs": []
    },
    {
      "cell_type": "markdown",
      "source": [
        "Nessa situação, quando for fazer a instalação apenas para executar a automação, utilize:"
      ],
      "metadata": {
        "id": "1DMphpdBW71w"
      }
    },
    {
      "cell_type": "code",
      "source": [
        "npm install --production"
      ],
      "metadata": {
        "id": "3NPsObcyW_L-"
      },
      "execution_count": null,
      "outputs": []
    }
  ]
}